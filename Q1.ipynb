{
 "cells": [
  {
   "cell_type": "code",
   "execution_count": 67,
   "id": "destroyed-elevation",
   "metadata": {},
   "outputs": [],
   "source": [
    "nums = [3,2,4]\n",
    "target = 6"
   ]
  },
  {
   "cell_type": "code",
   "execution_count": 68,
   "id": "senior-facility",
   "metadata": {},
   "outputs": [],
   "source": [
    "class Solution:\n",
    "    def twoSum(self, nums, target):\n",
    "        \"\"\"\n",
    "        :type nums: List[int]\n",
    "        :type target: int\n",
    "        :rtype: List[int]\n",
    "        \"\"\"\n",
    "        for i,x in enumerate(nums):\n",
    "            b_loop = 0\n",
    "            for j,y in enumerate(nums):\n",
    "                if i == j:\n",
    "                    continue\n",
    "                elif nums[i] + nums[j] == target:\n",
    "                    return [i,j]\n",
    "                    b_loop+=1\n",
    "                    break\n",
    "            if b_loop == 1:\n",
    "                break"
   ]
  },
  {
   "cell_type": "code",
   "execution_count": 69,
   "id": "cardiac-devil",
   "metadata": {},
   "outputs": [
    {
     "data": {
      "text/plain": [
       "[1, 2]"
      ]
     },
     "execution_count": 69,
     "metadata": {},
     "output_type": "execute_result"
    }
   ],
   "source": [
    "Solution.twoSum([],[3,2,4],6)"
   ]
  },
  {
   "cell_type": "code",
   "execution_count": 72,
   "id": "fourth-panic",
   "metadata": {},
   "outputs": [
    {
     "name": "stdout",
     "output_type": "stream",
     "text": [
      "{}\n",
      "{3: 0}\n",
      "{3: 0, 2: 1}\n",
      "[1, 2]\n"
     ]
    }
   ],
   "source": [
    " h = {}\n",
    "for i, num in enumerate(nums):\n",
    "    n = target - num\n",
    "    print(h)\n",
    "    if n not in h:\n",
    "        h[num] = i\n",
    "    else:\n",
    "        print([h[n], i])"
   ]
  },
  {
   "cell_type": "code",
   "execution_count": null,
   "id": "cheap-exchange",
   "metadata": {},
   "outputs": [],
   "source": []
  }
 ],
 "metadata": {
  "kernelspec": {
   "display_name": "Python 3",
   "language": "python",
   "name": "python3"
  },
  "language_info": {
   "codemirror_mode": {
    "name": "ipython",
    "version": 3
   },
   "file_extension": ".py",
   "mimetype": "text/x-python",
   "name": "python",
   "nbconvert_exporter": "python",
   "pygments_lexer": "ipython3",
   "version": "3.6.12"
  }
 },
 "nbformat": 4,
 "nbformat_minor": 5
}
