{
 "cells": [
  {
   "cell_type": "code",
   "execution_count": 1,
   "id": "continental-charge",
   "metadata": {},
   "outputs": [],
   "source": [
    "s = \"abcabcbb\""
   ]
  },
  {
   "cell_type": "code",
   "execution_count": 2,
   "id": "controversial-concord",
   "metadata": {},
   "outputs": [],
   "source": [
    "def lengthOfLongestSubstring(s):\n",
    "    # If string length = 0, output 0\n",
    "    if len(s) == 0:\n",
    "        return 0\n",
    "    # If string length = 1, output char\n",
    "    elif (len(s) == 1):\n",
    "        return print(\"The answer is \" + '\"' + s + '\",' + \" with the length of 1.\")\n",
    "    else:\n",
    "        dict = {}\n",
    "        for i,char in enumerate(s):\n",
    "            # Set substring to 1st char of each iteration\n",
    "            substring = str(char)\n",
    "            # Loop through the rest of the chars to check for repeating chars\n",
    "            for x in range(i,len(s)-1):\n",
    "                if (s[x+1] != s[x]) and (s[x+1] not in substring):\n",
    "                    substring += s[x+1]\n",
    "                else:\n",
    "                    dict[substring] = len(substring)\n",
    "                    break\n",
    "        max_value = max(dict.values())\n",
    "        max_key = max(dict, key=dict.get)\n",
    "        return print (\"The answer is \" + '\"' + max_key + '\",' + \" with the length of \" + str(max_value) + \".\")"
   ]
  },
  {
   "cell_type": "code",
   "execution_count": 3,
   "id": "miniature-salmon",
   "metadata": {},
   "outputs": [
    {
     "name": "stdout",
     "output_type": "stream",
     "text": [
      "The answer is \"abc\", with the length of 3.\n"
     ]
    }
   ],
   "source": [
    "lengthOfLongestSubstring(s)"
   ]
  },
  {
   "cell_type": "code",
   "execution_count": null,
   "id": "breathing-madagascar",
   "metadata": {},
   "outputs": [],
   "source": []
  }
 ],
 "metadata": {
  "kernelspec": {
   "display_name": "Python 3",
   "language": "python",
   "name": "python3"
  },
  "language_info": {
   "codemirror_mode": {
    "name": "ipython",
    "version": 3
   },
   "file_extension": ".py",
   "mimetype": "text/x-python",
   "name": "python",
   "nbconvert_exporter": "python",
   "pygments_lexer": "ipython3",
   "version": "3.6.12"
  }
 },
 "nbformat": 4,
 "nbformat_minor": 5
}
