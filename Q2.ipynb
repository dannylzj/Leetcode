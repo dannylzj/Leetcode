{
 "cells": [
  {
   "cell_type": "code",
   "execution_count": 222,
   "id": "brilliant-insertion",
   "metadata": {},
   "outputs": [],
   "source": [
    "l1 = [9,9,9,9,9,9,9]\n",
    "l2 = [9,9,9,9]"
   ]
  },
  {
   "cell_type": "code",
   "execution_count": 223,
   "id": "small-country",
   "metadata": {},
   "outputs": [],
   "source": [
    "def add_two_list(l1, l2):\n",
    "    # Check for length of lists\n",
    "    if (len(l1) < len(l2)) or (len(l1) == len(l2)):\n",
    "        long,short = l2,l1\n",
    "    else:\n",
    "        long,short = l1,l2\n",
    "    list = []\n",
    "    carry = 0\n",
    "    for i,x in enumerate(long):\n",
    "        # Check last element\n",
    "        if i == len(long)-1:\n",
    "            sum = x + carry\n",
    "            if (sum < 10):\n",
    "                list.append(sum)\n",
    "            else:\n",
    "                remainder = sum%10\n",
    "                list.append(remainder)\n",
    "                list.append(1)\n",
    "        # If short list ended\n",
    "        elif i>=len(short):\n",
    "            sum = x + carry\n",
    "            if (sum < 10):\n",
    "                list.append(sum)\n",
    "                carry = 0\n",
    "            else:\n",
    "                remainder = sum%10\n",
    "                list.append(remainder)\n",
    "                carry = sum//10\n",
    "        else:\n",
    "            sum = x + short[i] + carry\n",
    "            if (sum < 10):\n",
    "                remainder = sum%10\n",
    "                list.append(remainder)\n",
    "                carry = 0\n",
    "            else:\n",
    "                remainder = sum%10\n",
    "                list.append(remainder)\n",
    "                carry = sum//10\n",
    "    return(list)"
   ]
  },
  {
   "cell_type": "code",
   "execution_count": 224,
   "id": "empirical-possession",
   "metadata": {},
   "outputs": [
    {
     "data": {
      "text/plain": [
       "[8, 9, 9, 9, 0, 0, 0, 1]"
      ]
     },
     "execution_count": 224,
     "metadata": {},
     "output_type": "execute_result"
    }
   ],
   "source": [
    "add_two_list(l1, l2)"
   ]
  },
  {
   "cell_type": "code",
   "execution_count": null,
   "id": "facial-kenya",
   "metadata": {},
   "outputs": [],
   "source": []
  }
 ],
 "metadata": {
  "kernelspec": {
   "display_name": "Python 3",
   "language": "python",
   "name": "python3"
  },
  "language_info": {
   "codemirror_mode": {
    "name": "ipython",
    "version": 3
   },
   "file_extension": ".py",
   "mimetype": "text/x-python",
   "name": "python",
   "nbconvert_exporter": "python",
   "pygments_lexer": "ipython3",
   "version": "3.6.12"
  }
 },
 "nbformat": 4,
 "nbformat_minor": 5
}
