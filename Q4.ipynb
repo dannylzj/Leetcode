{
 "cells": [
  {
   "cell_type": "code",
   "execution_count": 33,
   "id": "sufficient-induction",
   "metadata": {},
   "outputs": [],
   "source": [
    "s = \"babad\" # Output: \"bab\" or \"aba\"\n",
    "# s = \"cbbd\" # Output: \"bb\"\n",
    "# s = \"a\" # Output: \"a\"\n",
    "# s = \"ac\" # Output: \"a\""
   ]
  },
  {
   "cell_type": "code",
   "execution_count": 34,
   "id": "authentic-giving",
   "metadata": {},
   "outputs": [],
   "source": [
    "def find(input_str,ch):\n",
    "    return [i for i,char in enumerate(input_str) if char == ch ]"
   ]
  },
  {
   "cell_type": "code",
   "execution_count": 35,
   "id": "union-gibson",
   "metadata": {},
   "outputs": [],
   "source": [
    "dict_p = {}\n",
    "def longestPalindrome(s):\n",
    "    if len(s) == 0:\n",
    "        return 0\n",
    "    # If string length = 1, output char\n",
    "    elif (len(s) == 1):\n",
    "        return s\n",
    "    else:\n",
    "        for char in s:\n",
    "            char_index = find(s,char)\n",
    "            if len(char_index) == 1:\n",
    "                continue\n",
    "            else:\n",
    "                max_search_len = len(char_index)"
   ]
  },
  {
   "cell_type": "code",
   "execution_count": 36,
   "id": "rising-lambda",
   "metadata": {},
   "outputs": [],
   "source": [
    "longestPalindrome(s)"
   ]
  }
 ],
 "metadata": {
  "kernelspec": {
   "display_name": "Python 3",
   "language": "python",
   "name": "python3"
  },
  "language_info": {
   "codemirror_mode": {
    "name": "ipython",
    "version": 3
   },
   "file_extension": ".py",
   "mimetype": "text/x-python",
   "name": "python",
   "nbconvert_exporter": "python",
   "pygments_lexer": "ipython3",
   "version": "3.8.5"
  }
 },
 "nbformat": 4,
 "nbformat_minor": 5
}
